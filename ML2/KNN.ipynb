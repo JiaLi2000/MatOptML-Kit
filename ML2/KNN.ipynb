{
 "cells": [
  {
   "cell_type": "code",
   "execution_count": 1,
   "id": "92a8dd42",
   "metadata": {},
   "outputs": [],
   "source": [
    "import numpy as np\n",
    "import pandas as pd\n",
    "from sklearn import datasets\n",
    "from sklearn.model_selection import train_test_split"
   ]
  },
  {
   "cell_type": "code",
   "execution_count": 2,
   "id": "f1617455",
   "metadata": {},
   "outputs": [],
   "source": [
    "class KNN_C:\n",
    "    def __init__(self, k):\n",
    "        self.k = k\n",
    "    def fit(self, X, y):\n",
    "        self.X = X\n",
    "        self.y = y\n",
    "    def predict(self, x):\n",
    "        neighbor_k_indexs = np.argsort([((x - x_) ** 2).sum()**0.5 for x_ in self.X])[:self.k]\n",
    "        class_counts = [np.count_nonzero(self.y[neighbor_k_indexs] == j) for j in range(self.y.max()+1)]\n",
    "        return np.argmax(class_counts)"
   ]
  },
  {
   "cell_type": "code",
   "execution_count": 3,
   "id": "bfa289e6",
   "metadata": {},
   "outputs": [],
   "source": [
    "iris = datasets.load_iris()\n",
    "X, y = iris.data, iris.target\n",
    "X_train, X_test, y_train, y_test = train_test_split(X, y, test_size=0.33, random_state=42,shuffle=True)"
   ]
  },
  {
   "cell_type": "code",
   "execution_count": 4,
   "id": "9df48fe3",
   "metadata": {},
   "outputs": [
    {
     "data": {
      "text/plain": [
       "0.98"
      ]
     },
     "execution_count": 4,
     "metadata": {},
     "output_type": "execute_result"
    }
   ],
   "source": [
    "knn_c = KNN_C(3)\n",
    "knn_c.fit(X_train,y_train)\n",
    "y_pred = np.array([knn_c.predict(X_test[i]) for i in range(len(X_test))])\n",
    "(y_pred == y_test).sum()/len(y_pred)"
   ]
  },
  {
   "cell_type": "code",
   "execution_count": 5,
   "id": "dca065df",
   "metadata": {},
   "outputs": [],
   "source": [
    "class KNN_R:\n",
    "    def __init__(self, k):\n",
    "        self.k = k\n",
    "    def fit(self, X, y):\n",
    "        self.X = X\n",
    "        self.y = y\n",
    "    def predict(self, x):\n",
    "        neighbor_k_indexs = np.argsort([((x - x_) ** 2).sum()**0.5 for x_ in self.X])[:self.k]\n",
    "        return np.mean(self.y[neighbor_k_indexs])"
   ]
  },
  {
   "cell_type": "code",
   "execution_count": 6,
   "id": "3db1a79a",
   "metadata": {},
   "outputs": [],
   "source": [
    "diabetes = datasets.load_diabetes()\n",
    "X, y = diabetes.data, diabetes.target\n",
    "X_train, X_test, y_train, y_test = train_test_split(X, y, test_size=0.33, random_state=42,shuffle=True)"
   ]
  },
  {
   "cell_type": "code",
   "execution_count": 7,
   "id": "447f2531",
   "metadata": {},
   "outputs": [
    {
     "name": "stdout",
     "output_type": "stream",
     "text": [
      "669.0875595397849\n"
     ]
    }
   ],
   "source": [
    "knn_c = KNN_R(31)\n",
    "knn_c.fit(X_train,y_train)\n",
    "y_pred = np.array([knn_c.predict(X_test[i]) for i in range(len(X_test))])\n",
    "mse = ((y_pred - y_test) ** 2).sum() ** 0.5\n",
    "print(mse)"
   ]
  },
  {
   "cell_type": "code",
   "execution_count": 8,
   "id": "6f79ce56",
   "metadata": {},
   "outputs": [],
   "source": [
    "class KNN_OD:\n",
    "    def __init__(self, k):\n",
    "        self.k = k\n",
    "    def fit(self, X):\n",
    "        self.X = X\n",
    "    def predict(self, x):\n",
    "        k_dist = np.sort([((x - x_) ** 2).sum()**0.5 for x_ in self.X])[self.k - 1]\n",
    "        return k_dist"
   ]
  },
  {
   "cell_type": "code",
   "execution_count": 9,
   "id": "e18dfd47",
   "metadata": {},
   "outputs": [],
   "source": [
    "from sklearn.datasets import make_blobs\n",
    "X, y = make_blobs(n_samples=300, centers=2, cluster_std=1.0, random_state=42)\n",
    "# 添加离群点\n",
    "import numpy as np\n",
    "X_outliers = np.random.uniform(low=-10, high=10, size=(20, 2))\n",
    "X = np.vstack([X, X_outliers])\n",
    "y = np.hstack([y, np.full(20, -1)])  # 用-1标记离群点"
   ]
  },
  {
   "cell_type": "code",
   "execution_count": 11,
   "id": "16d3580e",
   "metadata": {},
   "outputs": [
    {
     "name": "stdout",
     "output_type": "stream",
     "text": [
      "[0.1965282  0.74877438 0.30542163 0.24510081 0.65769227 0.72744746\n",
      " 0.29521538 0.4902486  0.28814528 0.77459591 0.23922116 0.26660493\n",
      " 0.57582366 0.29894751 0.46527895 0.36273999 0.62998784 1.00805313\n",
      " 0.34157533 0.63038887 0.32505283 0.41668979 0.1674055  0.18358681\n",
      " 0.31111421 0.2389448  1.01750705 0.35716643 0.36883474 0.38232714\n",
      " 0.93400383 0.4168594  0.78608997 0.26463096 0.23148228 0.56805952\n",
      " 0.25359655 0.34923756 0.26684456 0.63081404 0.53516303 0.74146492\n",
      " 0.40255197 0.40199998 0.36620599 0.2978238  0.30915486 0.23490706\n",
      " 0.33612759 0.30695487 0.50954074 0.55546445 0.62998784 0.31592461\n",
      " 0.23591596 0.31956284 0.45077317 0.53603017 0.25428199 0.51157261\n",
      " 0.52113168 0.72762349 0.31417129 1.1107398  0.37496    0.23997945\n",
      " 0.28195184 0.30110951 0.44531285 0.50757154 0.58358795 0.19501465\n",
      " 0.31307388 0.35110104 0.23134768 0.29635163 0.4639958  0.40062831\n",
      " 0.28373359 1.16189316 0.57193901 0.57892601 0.17730292 0.23922116\n",
      " 0.23313547 0.38975537 0.2632035  0.28614736 0.3663722  0.51864622\n",
      " 0.21599432 0.56329794 0.39575599 0.26732865 0.32797838 0.35062396\n",
      " 0.85474098 0.60861383 0.37028911 0.34013438 0.4172286  0.28193196\n",
      " 0.23718737 0.42009924 0.47783018 0.32587935 0.39230606 0.35977305\n",
      " 0.59142304 0.18736286 1.55942853 0.76484848 0.7904127  0.69838313\n",
      " 0.90079813 0.32347021 0.81169098 0.30391232 0.2631144  1.10700418\n",
      " 0.40735113 0.57138108 0.50420063 0.31011803 0.48958527 0.50223682\n",
      " 0.36057958 0.26273493 0.61318318 0.3164881  0.2644596  0.36316407\n",
      " 0.28195606 0.66812294 0.29547986 0.26102224 1.86560727 0.29650418\n",
      " 0.33771095 1.06575662 0.5802998  0.88246816 0.42131781 1.43485239\n",
      " 1.01872087 0.34701861 0.34836573 0.32763737 0.33610701 0.32763737\n",
      " 0.29891274 0.21373288 0.2753794  0.28116353 0.55275144 0.33863686\n",
      " 0.33992782 0.35795469 0.43657369 0.33499086 0.63478693 0.79178713\n",
      " 0.21287725 0.32347021 0.37588485 0.35137485 0.63141688 0.64737311\n",
      " 0.2075321  0.27572619 0.32550724 0.50517426 0.70034113 0.61511858\n",
      " 0.45283546 0.75967576 0.57425068 0.55318859 0.23955897 1.06762484\n",
      " 0.36575715 1.3203898  0.36575715 2.31978912 0.28496551 0.30808301\n",
      " 0.6676052  0.3388281  0.80966414 0.50504446 0.40954851 0.34602227\n",
      " 0.51487078 0.28144518 0.36883474 0.31342354 0.29918968 0.28605023\n",
      " 0.36686068 0.38441347 0.40886601 0.20158413 0.29918968 0.60451991\n",
      " 0.31963835 0.95191896 1.82805119 0.2389448  0.39230606 0.32033979\n",
      " 0.34499479 0.71277283 0.48535767 0.37878773 0.56458369 0.24780648\n",
      " 0.34165424 0.25691294 0.36496944 0.44783959 0.69577497 0.23209465\n",
      " 0.30329059 0.40994306 0.21599432 0.32494091 0.50317278 0.32994601\n",
      " 0.69670249 0.50757154 0.88922433 0.30271195 0.43379057 0.22358098\n",
      " 0.33918885 0.81232034 0.56350272 0.19501465 0.35237406 0.51597418\n",
      " 1.33767677 0.48726862 0.33641994 0.69120327 0.32988525 0.48558273\n",
      " 0.53914431 0.52113168 0.36469338 0.42108565 0.38255682 0.27039495\n",
      " 0.7139505  0.32675208 0.54501544 0.25743138 0.21287725 0.3186662\n",
      " 0.319445   0.33611979 0.52849381 0.25374591 0.47029479 0.84001718\n",
      " 0.45704743 0.18314467 0.26491373 0.97298813 0.32768566 0.2393819\n",
      " 0.59800781 0.51147817 0.28442838 0.31872247 0.94543383 0.29807416\n",
      " 0.33499086 0.44754869 0.32615294 0.65843777 0.31592461 0.38899901\n",
      " 1.15297607 0.40894203 0.40255197 0.42620789 1.48604372 0.59987091\n",
      " 0.5332704  0.29260968 0.67701766 0.71327533 0.28247031 0.33540196\n",
      " 0.33379579 0.38390528 0.61471798 0.91943381 0.28310997 0.8284167\n",
      " 5.01435127 5.6575127  2.24920341 8.24870797 4.84809569 8.55663619\n",
      " 1.98565254 6.71870346 3.50330771 6.22341384 6.36522681 6.71146733\n",
      " 0.32376127 3.08783085 6.62402442 6.31522365 6.20231775 5.00006466\n",
      " 6.01737312 7.99478709] [ 1  1  0  1  1  1  0  1  0  0  0  0  0  0  1  0  1  0  0  0  0  0  1  1\n",
      "  0  1  1  1  1  0  0  0  1  0  1  0  1  1  1  1  0  0  1  1  0  0  1  0\n",
      "  1  0  1  1  1  0  1  0  1  0  0  0  1  0  0  1  1  1  1  1  1  0  1  1\n",
      "  1  1  0  1  1  1  0  1  0  0  1  0  1  1  1  0  0  0  1  0  1  0  0  1\n",
      "  1  0  1  1  0  0  0  0  0  0  0  0  1  1  0  0  0  0  0  0  1  1  1  1\n",
      "  1  1  0  1  1  1  1  0  1  1  0  0  0  0  0  0  0  1  0  1  0  0  1  0\n",
      "  0  0  0  0  1  0  0  1  0  1  0  0  1  1  1  0  0  1  1  0  1  1  0  0\n",
      "  0  0  0  1  0  0  1  1  0  0  1  1  0  1  0  0  1  1  0  0  0  1  1  1\n",
      "  1  0  1  1  0  0  1  0  0  1  0  0  1  1  1  1  0  0  1  0  1  1  1  0\n",
      "  1  1  1  1  1  0  0  1  1  0  0  0  1  0  1  0  1  1  0  1  1  1  1  1\n",
      "  0  1  1  1  1  1  1  1  0  1  1  0  0  0  1  1  1  0  0  0  1  0  1  0\n",
      "  1  0  0  0  0  1  0  0  1  1  1  0  0  0  0  0  0  1  1  0  1  0  0  1\n",
      "  0  1  0  0  1  0  0  0  1  1  1  1 -1 -1 -1 -1 -1 -1 -1 -1 -1 -1 -1 -1\n",
      " -1 -1 -1 -1 -1 -1 -1 -1]\n"
     ]
    }
   ],
   "source": [
    "knn_od = KNN_OD(7)\n",
    "knn_od.fit(X)\n",
    "y_pred = np.array([knn_od.predict(X[i]) for i in range(len(X))])\n",
    "print(y_pred, y)"
   ]
  },
  {
   "cell_type": "code",
   "execution_count": null,
   "id": "940bcfed",
   "metadata": {},
   "outputs": [],
   "source": []
  }
 ],
 "metadata": {
  "kernelspec": {
   "display_name": "Python 3 (ipykernel)",
   "language": "python",
   "name": "python3"
  },
  "language_info": {
   "codemirror_mode": {
    "name": "ipython",
    "version": 3
   },
   "file_extension": ".py",
   "mimetype": "text/x-python",
   "name": "python",
   "nbconvert_exporter": "python",
   "pygments_lexer": "ipython3",
   "version": "3.11.3"
  },
  "toc": {
   "base_numbering": 1,
   "nav_menu": {},
   "number_sections": true,
   "sideBar": true,
   "skip_h1_title": false,
   "title_cell": "Table of Contents",
   "title_sidebar": "Contents",
   "toc_cell": false,
   "toc_position": {},
   "toc_section_display": true,
   "toc_window_display": false
  }
 },
 "nbformat": 4,
 "nbformat_minor": 5
}
