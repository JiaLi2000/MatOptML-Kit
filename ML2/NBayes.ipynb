{
 "cells": [
  {
   "cell_type": "code",
   "execution_count": 10,
   "id": "92a8dd42",
   "metadata": {},
   "outputs": [],
   "source": [
    "import numpy as np"
   ]
  },
  {
   "cell_type": "code",
   "execution_count": 11,
   "id": "f1617455",
   "metadata": {},
   "outputs": [],
   "source": [
    "class NBayes:\n",
    "    def __init__(self):\n",
    "        self.priors = None\n",
    "        self.conditions = []\n",
    "        self.k = None\n",
    "    def fit(self, X, y): # 设特征及标签均为从0开始离散特征\n",
    "        n, d = X.shape\n",
    "        self.k = y.max() + 1\n",
    "        N = np.array([np.count_nonzero(y == c) for c in range(self.k)])\n",
    "        self.priors = (N + 1)/(n + self.k)\n",
    "        s = np.array([len(np.unique(X[:,j])) for j in range(d)])\n",
    "        \n",
    "        # c类别下第j列特征取值为l的条件概率,三个维度\n",
    "        for c in range(self.k):\n",
    "            p_j = []\n",
    "            for j in range(d):\n",
    "                n_cj = np.array([np.count_nonzero( (X[:,j] == l) & (y == c) ) for l in range(s[j])])\n",
    "                p_cj = (n_cj + 1) / (s[j] + N[c])\n",
    "                p_j.append(p_cj)\n",
    "            self.conditions.append(p_j)\n",
    "\n",
    "    def predict(self, x):\n",
    "        posts = []\n",
    "        for c in range(self.k):\n",
    "            post = self.priors[c]\n",
    "            for j in range(len(x)):\n",
    "                post *= self.conditions[c][j][x[j]]\n",
    "            posts.append(post)\n",
    "        print(posts)\n",
    "        return np.argmax(posts)\n",
    "    \n",
    "    def show(self):\n",
    "        print(f'priors: {self.priors}')\n",
    "        print()\n",
    "        print(f'conds: {self.conditions}')\n"
   ]
  },
  {
   "cell_type": "code",
   "execution_count": 12,
   "id": "0b40c061",
   "metadata": {},
   "outputs": [],
   "source": [
    "data = [\n",
    "    [0, 0, 0],\n",
    "    [0, 1, 0],\n",
    "    [0, 1, 1],\n",
    "    [0, 0, 1],\n",
    "    [0, 0, 0],\n",
    "    [1, 0, 0],\n",
    "    [1, 1, 0],\n",
    "    [1, 1, 1],\n",
    "    [1, 2, 1],\n",
    "    [1, 2, 1],\n",
    "    [2, 2, 1],\n",
    "    [2, 1, 1],\n",
    "    [2, 1, 1],\n",
    "    [2, 2, 1],\n",
    "    [2, 2, 0]\n",
    "]\n",
    "data = np.array(data)"
   ]
  },
  {
   "cell_type": "code",
   "execution_count": 13,
   "id": "c9f8571e",
   "metadata": {},
   "outputs": [],
   "source": [
    "X = data[:,:2]\n",
    "y = data[:,2]"
   ]
  },
  {
   "cell_type": "code",
   "execution_count": 14,
   "id": "9df48fe3",
   "metadata": {},
   "outputs": [],
   "source": [
    "nb = NBayes()\n",
    "nb.fit(X,y)"
   ]
  },
  {
   "cell_type": "code",
   "execution_count": 15,
   "id": "940bcfed",
   "metadata": {},
   "outputs": [
    {
     "name": "stdout",
     "output_type": "stream",
     "text": [
      "priors: [0.41176471 0.58823529]\n",
      "\n",
      "conds: [[array([0.44444444, 0.33333333, 0.22222222]), array([0.44444444, 0.33333333, 0.22222222])], [array([0.25      , 0.33333333, 0.41666667]), array([0.16666667, 0.41666667, 0.41666667])]]\n"
     ]
    }
   ],
   "source": [
    "nb.show()"
   ]
  },
  {
   "cell_type": "code",
   "execution_count": 16,
   "id": "19babc60",
   "metadata": {},
   "outputs": [
    {
     "name": "stdout",
     "output_type": "stream",
     "text": [
      "[0.06100217864923746, 0.0326797385620915]\n"
     ]
    },
    {
     "data": {
      "text/plain": [
       "0"
      ]
     },
     "execution_count": 16,
     "metadata": {},
     "output_type": "execute_result"
    }
   ],
   "source": [
    "nb.predict([1,0])"
   ]
  },
  {
   "cell_type": "code",
   "execution_count": 17,
   "id": "d4b9d5f1",
   "metadata": {},
   "outputs": [
    {
     "data": {
      "text/plain": [
       "0.5882352941176471"
      ]
     },
     "execution_count": 17,
     "metadata": {},
     "output_type": "execute_result"
    }
   ],
   "source": [
    "10/17"
   ]
  },
  {
   "cell_type": "code",
   "execution_count": null,
   "id": "20d3ef26",
   "metadata": {},
   "outputs": [],
   "source": []
  }
 ],
 "metadata": {
  "kernelspec": {
   "display_name": "Python 3 (ipykernel)",
   "language": "python",
   "name": "python3"
  },
  "language_info": {
   "codemirror_mode": {
    "name": "ipython",
    "version": 3
   },
   "file_extension": ".py",
   "mimetype": "text/x-python",
   "name": "python",
   "nbconvert_exporter": "python",
   "pygments_lexer": "ipython3",
   "version": "3.11.3"
  },
  "toc": {
   "base_numbering": 1,
   "nav_menu": {},
   "number_sections": true,
   "sideBar": true,
   "skip_h1_title": false,
   "title_cell": "Table of Contents",
   "title_sidebar": "Contents",
   "toc_cell": false,
   "toc_position": {},
   "toc_section_display": true,
   "toc_window_display": false
  }
 },
 "nbformat": 4,
 "nbformat_minor": 5
}
